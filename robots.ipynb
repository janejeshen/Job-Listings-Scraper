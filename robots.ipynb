{
 "cells": [
  {
   "cell_type": "code",
   "execution_count": 4,
   "metadata": {},
   "outputs": [
    {
     "name": "stdout",
     "output_type": "stream",
     "text": [
      "Not allowed to scrape /jobs/\n"
     ]
    }
   ],
   "source": [
    "import requests\n",
    "from urllib.robotparser import RobotFileParser\n",
    "\n",
    "# Defining the user-agent for the scraper\n",
    "user_agent = '*'\n",
    "\n",
    "# Checking the robots.txt file\n",
    "robots_url = \"https://www.google.com/robots.txt\"\n",
    "robot_parser = RobotFileParser()\n",
    "robot_parser.set_url(robots_url)\n",
    "robot_parser.read()\n",
    "\n",
    "# Testing if the scraper is allowed to access  the path\n",
    "test_path = \"/jobs/\"\n",
    "if robot_parser.can_fetch(user_agent, url + test_path):\n",
    "    print(f\"Allowed to scrape {test_path}\")\n",
    "    # Proceed with your scraping logic\n",
    "else:\n",
    "    print(f\"Not allowed to scrape {test_path}\")\n"
   ]
  },
  {
   "cell_type": "code",
   "execution_count": null,
   "metadata": {},
   "outputs": [],
   "source": []
  }
 ],
 "metadata": {
  "kernelspec": {
   "display_name": "base",
   "language": "python",
   "name": "python3"
  },
  "language_info": {
   "codemirror_mode": {
    "name": "ipython",
    "version": 3
   },
   "file_extension": ".py",
   "mimetype": "text/x-python",
   "name": "python",
   "nbconvert_exporter": "python",
   "pygments_lexer": "ipython3",
   "version": "3.11.5"
  }
 },
 "nbformat": 4,
 "nbformat_minor": 2
}
